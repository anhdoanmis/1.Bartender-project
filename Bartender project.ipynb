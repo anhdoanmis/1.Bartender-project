from random import randint
questions = {
"strong": "Do ye like yer drinks strong?",
"salty": "Do ye like it with a salty tang?",
"bitter": "Are ye a lubber who likes it bitter?",
"sweet": "Would ye like a bit of sweetness with yer poison?",
"fruity": "Are ye one for a fruity finish?",
}
ingredients = {
"strong": ["glug of rum", "slug of whisky", "splash of gin"],
"salty": ["olive on a stick", "salt-dusted rim", "rasher of bacon"],
"bitter": ["shake of bitters", "splash of tonic", "twist of lemon peel"],
"sweet": ["sugar cube", "spoonful of honey", "spash of cola"],
"fruity": ["slice of orange", "dash of cassis", "cherry on top"],
}
answer = ""
for key in questions.keys():
    answer = input(questions[key] + ' (Anwer "y" or "yes", please!)')
    if answer.upper() == "Y" or answer.upper() == "YES":        
        print(ingredients[key][randint(0,len(ingredients[key]) - 1)])      
